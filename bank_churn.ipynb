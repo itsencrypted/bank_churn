{
 "cells": [
  {
   "cell_type": "code",
   "execution_count": 1,
   "metadata": {},
   "outputs": [],
   "source": [
    "import pandas as pd\n",
    "import numpy as np\n",
    "\n",
    "# Please change the file location as needed\n",
    "file_location = \"./bank_churn_project_1.csv\"\n",
    "data = pd.read_csv(file_location)\n",
    "# Please change the label to match dataset\n",
    "label = 'Exited'"
   ]
  },
  {
   "cell_type": "code",
   "execution_count": 2,
   "metadata": {},
   "outputs": [],
   "source": [
    "# Rearrage the dataset columns\n",
    "cols = data.columns.tolist()\n",
    "colIdx = data.columns.get_loc(label)\n",
    "# Do nothing if the label is in the 0th position\n",
    "# Otherwise, change the order of columns to move label to 0th position\n",
    "if colIdx != 0:\n",
    "    cols = cols[colIdx:colIdx+1] + cols[0:colIdx] + cols[colIdx+1:]\n",
    "# Change the order of data so that label is in the 0th column\n",
    "modified_data = data[cols]"
   ]
  },
  {
   "cell_type": "code",
   "execution_count": 3,
   "metadata": {},
   "outputs": [],
   "source": [
    "# Remove the useless columns\n",
    "# Note that below code is a sample\n",
    "# Please change the value as you see fit\n",
    "\n",
    "# Maximum categories allowed in a column\n",
    "# If a column contains more than 10 categories, it is dropped\n",
    "MAX_CAT_ALLOWED = 10\n",
    "\n",
    "cat_cols = modified_data.select_dtypes(exclude=['int', 'float']).columns\n",
    "cat_cols = set(cat_cols) - {label}\n",
    "\n",
    "useless_cols = []\n",
    "for cat_column_features in cat_cols:\n",
    "    num_cat = modified_data[cat_column_features].nunique()\n",
    "    if num_cat > MAX_CAT_ALLOWED:\n",
    "        useless_cols.append(cat_column_features)"
   ]
  },
  {
   "cell_type": "code",
   "execution_count": 4,
   "metadata": {},
   "outputs": [],
   "source": [
    "# If a column contains only 1 catetgory, it is dropped\n",
    "for feature_column in modified_data.columns:\n",
    "    num_cat = modified_data[feature_column].nunique()\n",
    "    if num_cat <= 1:\n",
    "        useless_cols.append(feature_column)\n",
    "modified_data = modified_data.drop(useless_cols, axis=1)"
   ]
  },
  {
   "cell_type": "code",
   "execution_count": 14,
   "metadata": {},
   "outputs": [],
   "source": [
    "# One hot encode and fill missing values\n",
    "from sklearn.pipeline import Pipeline\n",
    "from sklearn.impute import SimpleImputer\n",
    "from sklearn.preprocessing import OneHotEncoder\n",
    "from sklearn.compose import ColumnTransformer"
   ]
  },
  {
   "cell_type": "code",
   "execution_count": 15,
   "metadata": {},
   "outputs": [],
   "source": [
    "# Remove label so that it is not encoded\n",
    "data_without_label = modified_data.drop([label], axis=1)\n",
    "# Fills missing values with the median value\n",
    "numeric_transformer = Pipeline(steps=[\n",
    "    ('imputer', SimpleImputer(strategy='median'))])\n",
    "categorical_transformer = Pipeline(steps=[\n",
    "    ('imputer', SimpleImputer(strategy='constant', fill_value='missing')),\n",
    "    ('onehot', OneHotEncoder(handle_unknown='ignore'))])\n",
    "\n",
    "numeric_features = data_without_label.select_dtypes(include=['int64',\n",
    "                                                    'float64']).columns\n",
    "\n",
    "categorical_features = data_without_label.select_dtypes(exclude=['int64',\n",
    "                                                            'float64']).columns"
   ]
  },
  {
   "cell_type": "code",
   "execution_count": 16,
   "metadata": {},
   "outputs": [],
   "source": [
    "# Create the column transformer\n",
    "preprocessor_cols = ColumnTransformer(\n",
    "    transformers=[('num', numeric_transformer, numeric_features),\n",
    "                  ('cat', categorical_transformer, categorical_features)])\n",
    "# Create a pipeline with the column transformer, note that\n",
    "# more things can be added to this pipeline in the future\n",
    "preprocessor = Pipeline(steps=[('preprocessor', preprocessor_cols)])\n",
    "preprocessor.fit(data_without_label)\n",
    "modified_data_without_label = preprocessor.transform(data_without_label)\n",
    "if (type(modified_data_without_label) is not np.ndarray):\n",
    "    modified_data_without_label = modified_data_without_label.toarray()\n",
    "\n",
    "modified_data_array = np.concatenate(\n",
    "    (np.array(modified_data[label]).reshape(-1, 1),\n",
    "     modified_data_without_label), axis=1)"
   ]
  },
  {
   "cell_type": "code",
   "execution_count": 17,
   "metadata": {},
   "outputs": [],
   "source": [
    "# Save the processed file, please change preicison in fmt as needed\n",
    "np.savetxt(\"data_processed.csv\", modified_data_array, delimiter=\",\", fmt='%1.3f')"
   ]
  },
  {
   "cell_type": "code",
   "execution_count": 18,
   "metadata": {},
   "outputs": [],
   "source": [
    "# Split the file into train and test (80% train and 20% test)\n",
    "from sklearn.model_selection import train_test_split\n",
    "train, test= train_test_split(modified_data_array, test_size=0.2)"
   ]
  },
  {
   "cell_type": "code",
   "execution_count": 19,
   "metadata": {},
   "outputs": [],
   "source": [
    "# Save the train file, please change preicison in fmt as needed\n",
    "np.savetxt(\"train.csv\", train, delimiter=\",\", fmt='%1.3f')"
   ]
  },
  {
   "cell_type": "code",
   "execution_count": 20,
   "metadata": {},
   "outputs": [],
   "source": [
    "# Save the test file, please change preicison in fmt as needed\n",
    "np.savetxt(\"test.csv\", test, delimiter=\",\", fmt='%1.3f')"
   ]
  },
  {
   "cell_type": "code",
   "execution_count": null,
   "metadata": {},
   "outputs": [],
   "source": []
  }
 ],
 "metadata": {
  "kernelspec": {
   "display_name": "Python 3",
   "language": "python",
   "name": "python3"
  },
  "language_info": {
   "codemirror_mode": {
    "name": "ipython",
    "version": 3
   },
   "file_extension": ".py",
   "mimetype": "text/x-python",
   "name": "python",
   "nbconvert_exporter": "python",
   "pygments_lexer": "ipython3",
   "version": "3.9.0"
  }
 },
 "nbformat": 4,
 "nbformat_minor": 4
}
